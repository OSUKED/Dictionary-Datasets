{
 "cells": [
  {
   "cell_type": "code",
   "execution_count": null,
   "id": "7b9cf573-5564-44b8-8b85-ad720a8f0ac8",
   "metadata": {},
   "outputs": [],
   "source": []
  },
  {
   "cell_type": "markdown",
   "id": "33e1b5fe-9808-424e-8ad6-1698bb9cf5e0",
   "metadata": {},
   "source": [
    "# Contract for Difference Contracts\n",
    "\n",
    "<br>\n",
    "\n",
    "### Imports"
   ]
  },
  {
   "cell_type": "code",
   "execution_count": 11,
   "id": "393896a5-8091-4da2-a529-3a48707f75f0",
   "metadata": {},
   "outputs": [],
   "source": [
    "import pandas as pd\n",
    "import numpy as np"
   ]
  },
  {
   "cell_type": "code",
   "execution_count": null,
   "id": "2cdb19f7-7cfe-4c22-b90a-5c479e09baf1",
   "metadata": {},
   "outputs": [],
   "source": []
  },
  {
   "cell_type": "code",
   "execution_count": 2,
   "id": "9c6ff91f-11df-40d7-bf9f-57d97368ca38",
   "metadata": {},
   "outputs": [
    {
     "data": {
      "text/html": [
       "<div>\n",
       "<style scoped>\n",
       "    .dataframe tbody tr th:only-of-type {\n",
       "        vertical-align: middle;\n",
       "    }\n",
       "\n",
       "    .dataframe tbody tr th {\n",
       "        vertical-align: top;\n",
       "    }\n",
       "\n",
       "    .dataframe thead th {\n",
       "        text-align: right;\n",
       "    }\n",
       "</style>\n",
       "<table border=\"1\" class=\"dataframe\">\n",
       "  <thead>\n",
       "    <tr style=\"text-align: right;\">\n",
       "      <th></th>\n",
       "      <th>CFD_Id</th>\n",
       "      <th>BMU_Id</th>\n",
       "      <th>Effective_From</th>\n",
       "      <th>Effective_date_to</th>\n",
       "    </tr>\n",
       "  </thead>\n",
       "  <tbody>\n",
       "    <tr>\n",
       "      <th>0</th>\n",
       "      <td>AAA-ACH-183</td>\n",
       "      <td>C__PSMAR001</td>\n",
       "      <td>2018-06-16</td>\n",
       "      <td>NaN</td>\n",
       "    </tr>\n",
       "    <tr>\n",
       "      <th>1</th>\n",
       "      <td>AAA-BAD-185</td>\n",
       "      <td>T_BDCHW-1</td>\n",
       "      <td>2018-12-01</td>\n",
       "      <td>NaN</td>\n",
       "    </tr>\n",
       "    <tr>\n",
       "      <th>2</th>\n",
       "      <td>AAA-BAN-189</td>\n",
       "      <td>T_KPMRW-1</td>\n",
       "      <td>2018-10-12</td>\n",
       "      <td>NaN</td>\n",
       "    </tr>\n",
       "    <tr>\n",
       "      <th>3</th>\n",
       "      <td>AAA-BAN-190</td>\n",
       "      <td>C__FMAGN003</td>\n",
       "      <td>2018-01-02</td>\n",
       "      <td>NaN</td>\n",
       "    </tr>\n",
       "    <tr>\n",
       "      <th>4</th>\n",
       "      <td>AAA-BAN-192</td>\n",
       "      <td>C__NMAGN007</td>\n",
       "      <td>2018-11-19</td>\n",
       "      <td>NaN</td>\n",
       "    </tr>\n",
       "  </tbody>\n",
       "</table>\n",
       "</div>"
      ],
      "text/plain": [
       "        CFD_Id       BMU_Id Effective_From Effective_date_to\n",
       "0  AAA-ACH-183  C__PSMAR001     2018-06-16               NaN\n",
       "1  AAA-BAD-185    T_BDCHW-1     2018-12-01               NaN\n",
       "2  AAA-BAN-189    T_KPMRW-1     2018-10-12               NaN\n",
       "3  AAA-BAN-190  C__FMAGN003     2018-01-02               NaN\n",
       "4  AAA-BAN-192  C__NMAGN007     2018-11-19               NaN"
      ]
     },
     "execution_count": 2,
     "metadata": {},
     "output_type": "execute_result"
    }
   ],
   "source": [
    "cfd_mapping_fp = 'https://www.lowcarboncontracts.uk/data-portal/dataset/10c5ea46-8b0b-497e-ae7f-5ba1c5df8ffe/resource/ab9eafe1-911f-47b7-9f60-bfffa9d87e5a/download/cfd-to-bm-unit-mapping.csv'\n",
    "\n",
    "df_cfd = pd.read_csv(cfd_mapping_fp)\n",
    "\n",
    "df_cfd.head()"
   ]
  },
  {
   "cell_type": "code",
   "execution_count": null,
   "id": "9688a704-cca4-4cdf-84c3-ec4bbe81f97a",
   "metadata": {},
   "outputs": [],
   "source": []
  },
  {
   "cell_type": "code",
   "execution_count": 6,
   "id": "4eacf3b8-f768-40b3-9f03-5f4b78ecfa9d",
   "metadata": {},
   "outputs": [
    {
     "data": {
      "text/plain": [
       "56"
      ]
     },
     "execution_count": 6,
     "metadata": {},
     "output_type": "execute_result"
    }
   ],
   "source": [
    "sett_to_cfd_id = df_cfd.set_index('BMU_Id')['CFD_Id'].to_dict()\n",
    "\n",
    "len(sett_to_cfd_id)"
   ]
  },
  {
   "cell_type": "code",
   "execution_count": null,
   "id": "8c65e6b3-9415-4d3e-81fe-6d05cef04816",
   "metadata": {},
   "outputs": [],
   "source": []
  },
  {
   "cell_type": "code",
   "execution_count": 3,
   "id": "d38d2f18-db7f-4805-85be-2614ee16c31a",
   "metadata": {},
   "outputs": [
    {
     "data": {
      "text/html": [
       "<div>\n",
       "<style scoped>\n",
       "    .dataframe tbody tr th:only-of-type {\n",
       "        vertical-align: middle;\n",
       "    }\n",
       "\n",
       "    .dataframe tbody tr th {\n",
       "        vertical-align: top;\n",
       "    }\n",
       "\n",
       "    .dataframe thead th {\n",
       "        text-align: right;\n",
       "    }\n",
       "</style>\n",
       "<table border=\"1\" class=\"dataframe\">\n",
       "  <thead>\n",
       "    <tr style=\"text-align: right;\">\n",
       "      <th></th>\n",
       "      <th>osuked_id</th>\n",
       "      <th>gppd_idnr</th>\n",
       "      <th>esail_id</th>\n",
       "      <th>name</th>\n",
       "      <th>sett_bmu_id</th>\n",
       "      <th>ngc_bmu_id</th>\n",
       "      <th>4c_offshore_id</th>\n",
       "      <th>windpowernet_id</th>\n",
       "      <th>wikidata_id</th>\n",
       "      <th>wikipedia_id</th>\n",
       "      <th>power_technology_id</th>\n",
       "      <th>eutl_id</th>\n",
       "    </tr>\n",
       "  </thead>\n",
       "  <tbody>\n",
       "    <tr>\n",
       "      <th>0</th>\n",
       "      <td>10000</td>\n",
       "      <td>NaN</td>\n",
       "      <td>MARK</td>\n",
       "      <td>Rothes Bio-Plant CHP</td>\n",
       "      <td>E_MARK-1, E_MARK-2</td>\n",
       "      <td>MARK-1, MARK-2</td>\n",
       "      <td>NaN</td>\n",
       "      <td>NaN</td>\n",
       "      <td>NaN</td>\n",
       "      <td>NaN</td>\n",
       "      <td>NaN</td>\n",
       "      <td>NaN</td>\n",
       "    </tr>\n",
       "    <tr>\n",
       "      <th>1</th>\n",
       "      <td>10001</td>\n",
       "      <td>GBR1000377, GBR1000369</td>\n",
       "      <td>DIDC</td>\n",
       "      <td>Didcot</td>\n",
       "      <td>T_DIDC1, T_DIDC2, T_DIDC4, T_DIDC3, T_DIDC1G, ...</td>\n",
       "      <td>DIDC1, DIDC2, DIDC4, DIDC3, DIDC1G, DIDC2G, DI...</td>\n",
       "      <td>NaN</td>\n",
       "      <td>NaN</td>\n",
       "      <td>NaN</td>\n",
       "      <td>NaN</td>\n",
       "      <td>NaN</td>\n",
       "      <td>97165</td>\n",
       "    </tr>\n",
       "    <tr>\n",
       "      <th>2</th>\n",
       "      <td>10002</td>\n",
       "      <td>GBR1000374, GBR1000375</td>\n",
       "      <td>ABTH</td>\n",
       "      <td>Aberthaw B</td>\n",
       "      <td>T_ABTH7, T_ABTH8, T_ABTH9, T_ABTH7G, T_ABTH8G,...</td>\n",
       "      <td>ABTH7, ABTH8, ABTH9, ABTH7G, ABTH8G, ABTH9G</td>\n",
       "      <td>NaN</td>\n",
       "      <td>NaN</td>\n",
       "      <td>NaN</td>\n",
       "      <td>NaN</td>\n",
       "      <td>NaN</td>\n",
       "      <td>97175</td>\n",
       "    </tr>\n",
       "  </tbody>\n",
       "</table>\n",
       "</div>"
      ],
      "text/plain": [
       "   osuked_id               gppd_idnr esail_id                  name  \\\n",
       "0      10000                     NaN     MARK  Rothes Bio-Plant CHP   \n",
       "1      10001  GBR1000377, GBR1000369     DIDC                Didcot   \n",
       "2      10002  GBR1000374, GBR1000375     ABTH            Aberthaw B   \n",
       "\n",
       "                                         sett_bmu_id  \\\n",
       "0                                 E_MARK-1, E_MARK-2   \n",
       "1  T_DIDC1, T_DIDC2, T_DIDC4, T_DIDC3, T_DIDC1G, ...   \n",
       "2  T_ABTH7, T_ABTH8, T_ABTH9, T_ABTH7G, T_ABTH8G,...   \n",
       "\n",
       "                                          ngc_bmu_id 4c_offshore_id  \\\n",
       "0                                     MARK-1, MARK-2            NaN   \n",
       "1  DIDC1, DIDC2, DIDC4, DIDC3, DIDC1G, DIDC2G, DI...            NaN   \n",
       "2        ABTH7, ABTH8, ABTH9, ABTH7G, ABTH8G, ABTH9G            NaN   \n",
       "\n",
       "  windpowernet_id wikidata_id wikipedia_id power_technology_id eutl_id  \n",
       "0             NaN         NaN          NaN                 NaN     NaN  \n",
       "1             NaN         NaN          NaN                 NaN   97165  \n",
       "2             NaN         NaN          NaN                 NaN   97175  "
      ]
     },
     "execution_count": 3,
     "metadata": {},
     "output_type": "execute_result"
    }
   ],
   "source": [
    "powerdict_fp = 'C:/Users/Ayrto/Desktop/Side Projects/Power-Station-Dictionary/data/dictionary/ids.csv'\n",
    "\n",
    "df_powerdict = pd.read_csv(powerdict_fp)\n",
    "\n",
    "df_powerdict.head(3)"
   ]
  },
  {
   "cell_type": "code",
   "execution_count": null,
   "id": "c8bbae4c-acd9-4af8-9291-a73728de2069",
   "metadata": {},
   "outputs": [],
   "source": []
  },
  {
   "cell_type": "code",
   "execution_count": 34,
   "id": "cd7c3c17-8654-4d0a-aec1-3d8df239335e",
   "metadata": {},
   "outputs": [],
   "source": [
    "#exports\n",
    "def add_cfds(df_powerdict, sett_to_cfd_id):\n",
    "    matched_sett = []\n",
    "    df_powerdict['cfd_id'] = ''\n",
    "    \n",
    "    for idx, sett_bmu_ids in df_powerdict['sett_bmu_id'].dropna().items():\n",
    "        sett_bmu_ids = sett_bmu_ids.split(', ')\n",
    "        site_cfd_ids = []\n",
    "\n",
    "        for sett_bmu_id in sett_bmu_ids:\n",
    "            if sett_bmu_id in sett_to_cfd_id.keys():\n",
    "                matched_sett += [sett_bmu_id]\n",
    "                site_cfd_ids += [sett_to_cfd_id[sett_bmu_id]]\n",
    "\n",
    "        df_powerdict.loc[idx, 'cfd_id'] = ', '.join(sorted(list(set(site_cfd_ids))))\n",
    "        \n",
    "    missing_sett = sorted(list(set(sett_to_cfd_id.keys()) - set(matched_sett)))\n",
    "    df_powerdict['cfd_id'] = df_powerdict['cfd_id'].replace('', np.nan)\n",
    "\n",
    "    return df_powerdict, missing_sett"
   ]
  },
  {
   "cell_type": "code",
   "execution_count": 35,
   "id": "4b14b188-fea6-4e39-8505-77fc3d2a7a09",
   "metadata": {},
   "outputs": [
    {
     "data": {
      "text/html": [
       "<div>\n",
       "<style scoped>\n",
       "    .dataframe tbody tr th:only-of-type {\n",
       "        vertical-align: middle;\n",
       "    }\n",
       "\n",
       "    .dataframe tbody tr th {\n",
       "        vertical-align: top;\n",
       "    }\n",
       "\n",
       "    .dataframe thead th {\n",
       "        text-align: right;\n",
       "    }\n",
       "</style>\n",
       "<table border=\"1\" class=\"dataframe\">\n",
       "  <thead>\n",
       "    <tr style=\"text-align: right;\">\n",
       "      <th></th>\n",
       "      <th>osuked_id</th>\n",
       "      <th>gppd_idnr</th>\n",
       "      <th>esail_id</th>\n",
       "      <th>name</th>\n",
       "      <th>sett_bmu_id</th>\n",
       "      <th>ngc_bmu_id</th>\n",
       "      <th>4c_offshore_id</th>\n",
       "      <th>windpowernet_id</th>\n",
       "      <th>wikidata_id</th>\n",
       "      <th>wikipedia_id</th>\n",
       "      <th>power_technology_id</th>\n",
       "      <th>eutl_id</th>\n",
       "      <th>cfd_id</th>\n",
       "    </tr>\n",
       "  </thead>\n",
       "  <tbody>\n",
       "    <tr>\n",
       "      <th>4</th>\n",
       "      <td>10004</td>\n",
       "      <td>GBR0000174, GBR1000112</td>\n",
       "      <td>DRAXX</td>\n",
       "      <td>Drax</td>\n",
       "      <td>T_DRAXX-1, T_DRAXX-2, T_DRAXX-3, T_DRAXX-4, T_...</td>\n",
       "      <td>DRAXX-1, DRAXX-2, DRAXX-3, DRAXX-4, DRAXX-5, D...</td>\n",
       "      <td>NaN</td>\n",
       "      <td>NaN</td>\n",
       "      <td>NaN</td>\n",
       "      <td>NaN</td>\n",
       "      <td>NaN</td>\n",
       "      <td>96842</td>\n",
       "      <td>INV-DRX-001</td>\n",
       "    </tr>\n",
       "    <tr>\n",
       "      <th>10</th>\n",
       "      <td>10010</td>\n",
       "      <td>NaN</td>\n",
       "      <td>LYNE</td>\n",
       "      <td>Lynemouth Generator</td>\n",
       "      <td>E_LYNE1, E_LYNE2, E_LYNE3</td>\n",
       "      <td>LNMTH-1, LNMTH-2, LNMTH-3</td>\n",
       "      <td>NaN</td>\n",
       "      <td>NaN</td>\n",
       "      <td>NaN</td>\n",
       "      <td>NaN</td>\n",
       "      <td>NaN</td>\n",
       "      <td>96827</td>\n",
       "      <td>INV-LYN-001</td>\n",
       "    </tr>\n",
       "    <tr>\n",
       "      <th>143</th>\n",
       "      <td>10170</td>\n",
       "      <td>GBR0002539</td>\n",
       "      <td>BRBEO</td>\n",
       "      <td>Burbo Bank Wind Farm Extension</td>\n",
       "      <td>T_BRBEO-1</td>\n",
       "      <td>BRBEO-1</td>\n",
       "      <td>NaN</td>\n",
       "      <td>NaN</td>\n",
       "      <td>NaN</td>\n",
       "      <td>NaN</td>\n",
       "      <td>NaN</td>\n",
       "      <td>NaN</td>\n",
       "      <td>INV-BUR-001</td>\n",
       "    </tr>\n",
       "  </tbody>\n",
       "</table>\n",
       "</div>"
      ],
      "text/plain": [
       "     osuked_id               gppd_idnr esail_id  \\\n",
       "4        10004  GBR0000174, GBR1000112    DRAXX   \n",
       "10       10010                     NaN     LYNE   \n",
       "143      10170              GBR0002539    BRBEO   \n",
       "\n",
       "                               name  \\\n",
       "4                              Drax   \n",
       "10              Lynemouth Generator   \n",
       "143  Burbo Bank Wind Farm Extension   \n",
       "\n",
       "                                           sett_bmu_id  \\\n",
       "4    T_DRAXX-1, T_DRAXX-2, T_DRAXX-3, T_DRAXX-4, T_...   \n",
       "10                           E_LYNE1, E_LYNE2, E_LYNE3   \n",
       "143                                          T_BRBEO-1   \n",
       "\n",
       "                                            ngc_bmu_id 4c_offshore_id  \\\n",
       "4    DRAXX-1, DRAXX-2, DRAXX-3, DRAXX-4, DRAXX-5, D...            NaN   \n",
       "10                           LNMTH-1, LNMTH-2, LNMTH-3            NaN   \n",
       "143                                            BRBEO-1            NaN   \n",
       "\n",
       "    windpowernet_id wikidata_id wikipedia_id power_technology_id eutl_id  \\\n",
       "4               NaN         NaN          NaN                 NaN   96842   \n",
       "10              NaN         NaN          NaN                 NaN   96827   \n",
       "143             NaN         NaN          NaN                 NaN     NaN   \n",
       "\n",
       "          cfd_id  \n",
       "4    INV-DRX-001  \n",
       "10   INV-LYN-001  \n",
       "143  INV-BUR-001  "
      ]
     },
     "execution_count": 35,
     "metadata": {},
     "output_type": "execute_result"
    }
   ],
   "source": [
    "df_powerdict, missing_sett = add_cfds(df_powerdict, sett_to_cfd_id)\n",
    "\n",
    "df_powerdict.loc[~df_powerdict['cfd_id'].isnull()].head(3)"
   ]
  },
  {
   "cell_type": "code",
   "execution_count": null,
   "id": "427c38fe-8d4f-47eb-bc9b-dea516e499f3",
   "metadata": {},
   "outputs": [],
   "source": []
  },
  {
   "cell_type": "code",
   "execution_count": 23,
   "id": "ba1f3f7c-dce1-483d-a3ee-c9b265ed3425",
   "metadata": {},
   "outputs": [
    {
     "data": {
      "text/plain": [
       "0.4642857142857143"
      ]
     },
     "execution_count": 23,
     "metadata": {},
     "output_type": "execute_result"
    }
   ],
   "source": [
    "len(missing_sett)/len(sett_to_cfd_id)"
   ]
  },
  {
   "cell_type": "code",
   "execution_count": null,
   "id": "d9cb68d2-9f38-48f5-a45f-bc28ab1a3cef",
   "metadata": {},
   "outputs": [],
   "source": []
  },
  {
   "cell_type": "code",
   "execution_count": 36,
   "id": "19bdf986-4241-4b87-9185-f4470d0c89a8",
   "metadata": {},
   "outputs": [
    {
     "data": {
      "text/plain": [
       "['C__AAXPO002',\n",
       " 'C__ALOND002',\n",
       " 'C__AOXPO009',\n",
       " 'C__ASTAT009',\n",
       " 'C__DAXPO001',\n",
       " 'C__DEDGE014',\n",
       " 'C__DNATP014',\n",
       " 'C__DSMAR010',\n",
       " 'C__DSPOW010',\n",
       " 'C__FMAGN003',\n",
       " 'C__FNATP012',\n",
       " 'C__JVETS001',\n",
       " 'C__KEDGE004',\n",
       " 'C__KNATP004',\n",
       " 'C__MRWED005',\n",
       " 'C__NMAGN007',\n",
       " 'C__NVETS013',\n",
       " 'C__PIMPO008',\n",
       " 'C__PPURE011',\n",
       " 'C__PSTAT011',\n",
       " 'E_SWBKW-1',\n",
       " 'E__MDRX001',\n",
       " 'E__MDRX002',\n",
       " 'T_BEATD-1',\n",
       " 'T_DDGND-1',\n",
       " 'T_TSREP-1']"
      ]
     },
     "execution_count": 36,
     "metadata": {},
     "output_type": "execute_result"
    }
   ],
   "source": [
    "missing_sett"
   ]
  },
  {
   "cell_type": "code",
   "execution_count": null,
   "id": "e687d4ed-569f-42a3-8d72-7e39679ac02b",
   "metadata": {},
   "outputs": [],
   "source": [
    "# can find the missing wind farm sites here - https://www.bmreports.com/bmrs/sites/default/files//PowerParkModules.xlsx"
   ]
  }
 ],
 "metadata": {
  "kernelspec": {
   "display_name": "PowerDictData",
   "language": "python",
   "name": "powerdictdata"
  },
  "language_info": {
   "codemirror_mode": {
    "name": "ipython",
    "version": 3
   },
   "file_extension": ".py",
   "mimetype": "text/x-python",
   "name": "python",
   "nbconvert_exporter": "python",
   "pygments_lexer": "ipython3",
   "version": "3.9.7"
  }
 },
 "nbformat": 4,
 "nbformat_minor": 5
}
