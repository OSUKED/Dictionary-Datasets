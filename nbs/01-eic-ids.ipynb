{
 "cells": [
  {
   "cell_type": "code",
   "execution_count": null,
   "id": "2531b762-e8fa-4032-b65f-45e396460f4a",
   "metadata": {},
   "outputs": [],
   "source": []
  },
  {
   "cell_type": "markdown",
   "id": "849be4ec-9648-4aa4-9153-45b2d4ed5bce",
   "metadata": {},
   "source": [
    "# Matching EIC Codes\n",
    "\n",
    "<br>\n",
    "\n",
    "### Imports"
   ]
  },
  {
   "cell_type": "code",
   "execution_count": 1,
   "id": "42aeef37-17d8-4e23-a8b3-1bc77af52269",
   "metadata": {},
   "outputs": [],
   "source": [
    "import pandas as pd\n",
    "import numpy as np\n",
    "\n",
    "from ElexonDataPortal.api import Client"
   ]
  },
  {
   "cell_type": "code",
   "execution_count": null,
   "id": "9f2383dd-6cff-457e-af15-ffb0aff5451a",
   "metadata": {},
   "outputs": [],
   "source": []
  },
  {
   "cell_type": "code",
   "execution_count": 2,
   "id": "14b8fdfd-4703-45e0-b85a-f8e73a3cb593",
   "metadata": {},
   "outputs": [
    {
     "data": {
      "text/plain": [
       "<ElexonDataPortal.api.Client at 0x1ac040c0640>"
      ]
     },
     "execution_count": 2,
     "metadata": {},
     "output_type": "execute_result"
    }
   ],
   "source": [
    "client = Client()\n",
    "\n",
    "client"
   ]
  },
  {
   "cell_type": "code",
   "execution_count": null,
   "id": "2cd07543-c984-4c82-9f0c-23e8efd9802b",
   "metadata": {},
   "outputs": [],
   "source": []
  },
  {
   "cell_type": "code",
   "execution_count": 3,
   "id": "b610da82-d61c-4bc3-ba30-50afc91f176c",
   "metadata": {},
   "outputs": [
    {
     "name": "stderr",
     "output_type": "stream",
     "text": [
      "B1420: 100%|█████████████████████████████████████████████████████████████████████████████| 3/3 [00:05<00:00,  1.70s/it]\n"
     ]
    },
    {
     "data": {
      "text/plain": [
       "(1037, 16)"
      ]
     },
     "execution_count": 3,
     "metadata": {},
     "output_type": "execute_result"
    }
   ],
   "source": [
    "df_B1420 = client.get_B1420().drop_duplicates()\n",
    "\n",
    "df_B1420.shape"
   ]
  },
  {
   "cell_type": "code",
   "execution_count": null,
   "id": "6ec53375-ac3b-4295-87e4-9eae3fae8b78",
   "metadata": {},
   "outputs": [],
   "source": []
  },
  {
   "cell_type": "code",
   "execution_count": 4,
   "id": "378dbf6a-844a-4fe4-af29-bc09173a17ba",
   "metadata": {},
   "outputs": [
    {
     "data": {
      "text/plain": [
       "816"
      ]
     },
     "execution_count": 4,
     "metadata": {},
     "output_type": "execute_result"
    }
   ],
   "source": [
    "ngc_to_eic_id = df_B1420.set_index('nGCBMUnitID')['registeredResourceEICCode'].to_dict()\n",
    "\n",
    "len(ngc_to_eic_id)"
   ]
  },
  {
   "cell_type": "code",
   "execution_count": null,
   "id": "d1499bc1-32cd-4dbe-977f-993de9ff048f",
   "metadata": {},
   "outputs": [],
   "source": []
  },
  {
   "cell_type": "code",
   "execution_count": 5,
   "id": "b962f665-3f57-4a07-afb8-3bc53177c62a",
   "metadata": {},
   "outputs": [
    {
     "data": {
      "text/html": [
       "<div>\n",
       "<style scoped>\n",
       "    .dataframe tbody tr th:only-of-type {\n",
       "        vertical-align: middle;\n",
       "    }\n",
       "\n",
       "    .dataframe tbody tr th {\n",
       "        vertical-align: top;\n",
       "    }\n",
       "\n",
       "    .dataframe thead th {\n",
       "        text-align: right;\n",
       "    }\n",
       "</style>\n",
       "<table border=\"1\" class=\"dataframe\">\n",
       "  <thead>\n",
       "    <tr style=\"text-align: right;\">\n",
       "      <th></th>\n",
       "      <th>osuked_id</th>\n",
       "      <th>gppd_idnr</th>\n",
       "      <th>esail_id</th>\n",
       "      <th>name</th>\n",
       "      <th>sett_bmu_id</th>\n",
       "      <th>ngc_bmu_id</th>\n",
       "      <th>4c_offshore_id</th>\n",
       "      <th>windpowernet_id</th>\n",
       "      <th>wikidata_id</th>\n",
       "      <th>wikipedia_id</th>\n",
       "      <th>power_technology_id</th>\n",
       "      <th>eutl_id</th>\n",
       "    </tr>\n",
       "  </thead>\n",
       "  <tbody>\n",
       "    <tr>\n",
       "      <th>0</th>\n",
       "      <td>10000</td>\n",
       "      <td>NaN</td>\n",
       "      <td>MARK</td>\n",
       "      <td>Rothes Bio-Plant CHP</td>\n",
       "      <td>E_MARK-1, E_MARK-2</td>\n",
       "      <td>MARK-1, MARK-2</td>\n",
       "      <td>NaN</td>\n",
       "      <td>NaN</td>\n",
       "      <td>NaN</td>\n",
       "      <td>NaN</td>\n",
       "      <td>NaN</td>\n",
       "      <td>NaN</td>\n",
       "    </tr>\n",
       "    <tr>\n",
       "      <th>1</th>\n",
       "      <td>10001</td>\n",
       "      <td>GBR1000377, GBR1000369</td>\n",
       "      <td>DIDC</td>\n",
       "      <td>Didcot</td>\n",
       "      <td>T_DIDC1, T_DIDC2, T_DIDC4, T_DIDC3, T_DIDC1G, ...</td>\n",
       "      <td>DIDC1, DIDC2, DIDC4, DIDC3, DIDC1G, DIDC2G, DI...</td>\n",
       "      <td>NaN</td>\n",
       "      <td>NaN</td>\n",
       "      <td>NaN</td>\n",
       "      <td>NaN</td>\n",
       "      <td>NaN</td>\n",
       "      <td>97165</td>\n",
       "    </tr>\n",
       "    <tr>\n",
       "      <th>2</th>\n",
       "      <td>10002</td>\n",
       "      <td>GBR1000374, GBR1000375</td>\n",
       "      <td>ABTH</td>\n",
       "      <td>Aberthaw B</td>\n",
       "      <td>T_ABTH7, T_ABTH8, T_ABTH9, T_ABTH7G, T_ABTH8G,...</td>\n",
       "      <td>ABTH7, ABTH8, ABTH9, ABTH7G, ABTH8G, ABTH9G</td>\n",
       "      <td>NaN</td>\n",
       "      <td>NaN</td>\n",
       "      <td>NaN</td>\n",
       "      <td>NaN</td>\n",
       "      <td>NaN</td>\n",
       "      <td>97175</td>\n",
       "    </tr>\n",
       "  </tbody>\n",
       "</table>\n",
       "</div>"
      ],
      "text/plain": [
       "   osuked_id               gppd_idnr esail_id                  name  \\\n",
       "0      10000                     NaN     MARK  Rothes Bio-Plant CHP   \n",
       "1      10001  GBR1000377, GBR1000369     DIDC                Didcot   \n",
       "2      10002  GBR1000374, GBR1000375     ABTH            Aberthaw B   \n",
       "\n",
       "                                         sett_bmu_id  \\\n",
       "0                                 E_MARK-1, E_MARK-2   \n",
       "1  T_DIDC1, T_DIDC2, T_DIDC4, T_DIDC3, T_DIDC1G, ...   \n",
       "2  T_ABTH7, T_ABTH8, T_ABTH9, T_ABTH7G, T_ABTH8G,...   \n",
       "\n",
       "                                          ngc_bmu_id 4c_offshore_id  \\\n",
       "0                                     MARK-1, MARK-2            NaN   \n",
       "1  DIDC1, DIDC2, DIDC4, DIDC3, DIDC1G, DIDC2G, DI...            NaN   \n",
       "2        ABTH7, ABTH8, ABTH9, ABTH7G, ABTH8G, ABTH9G            NaN   \n",
       "\n",
       "  windpowernet_id wikidata_id wikipedia_id power_technology_id eutl_id  \n",
       "0             NaN         NaN          NaN                 NaN     NaN  \n",
       "1             NaN         NaN          NaN                 NaN   97165  \n",
       "2             NaN         NaN          NaN                 NaN   97175  "
      ]
     },
     "execution_count": 5,
     "metadata": {},
     "output_type": "execute_result"
    }
   ],
   "source": [
    "powerdict_fp = 'C:/Users/Ayrto/Desktop/Side Projects/Power-Station-Dictionary/data/dictionary/ids.csv'\n",
    "\n",
    "df_powerdict = pd.read_csv(powerdict_fp)\n",
    "\n",
    "df_powerdict.head(3)"
   ]
  },
  {
   "cell_type": "code",
   "execution_count": null,
   "id": "27dc798b-fb05-4b22-bbae-92d979ca711d",
   "metadata": {},
   "outputs": [],
   "source": []
  },
  {
   "cell_type": "code",
   "execution_count": 6,
   "id": "f0bc1feb-ab01-47bf-a634-6e793a8141d9",
   "metadata": {
    "tags": []
   },
   "outputs": [],
   "source": [
    "#exports\n",
    "def add_eic_ids(df_powerdict, ngc_to_eic_id):\n",
    "    matched_ngcs = []\n",
    "    df_powerdict['eic_id'] = np.nan\n",
    "\n",
    "    for idx, ngc_bmu_ids in df_powerdict['ngc_bmu_id'].dropna().items():\n",
    "        ngc_bmu_ids = ngc_bmu_ids.split(', ')\n",
    "        site_eic_ids = []\n",
    "\n",
    "        for ngc_bmu_id in ngc_bmu_ids:\n",
    "            if ngc_bmu_id in ngc_to_eic_id.keys():\n",
    "                matched_ngcs += [ngc_bmu_id]\n",
    "                site_eic_ids += [ngc_to_eic_id[ngc_bmu_id]]\n",
    "\n",
    "        df_powerdict.loc[idx, 'eic_id'] = ', '.join(site_eic_ids)\n",
    "        \n",
    "    missing_ngcs = sorted(list(set(ngc_to_eic_id.keys()) - set(matched_ngcs)))\n",
    "\n",
    "    return df_powerdict, missing_ngcs"
   ]
  },
  {
   "cell_type": "code",
   "execution_count": 7,
   "id": "ef7c3059-1273-4f4c-9262-c26d86f5ca3f",
   "metadata": {},
   "outputs": [
    {
     "data": {
      "text/html": [
       "<div>\n",
       "<style scoped>\n",
       "    .dataframe tbody tr th:only-of-type {\n",
       "        vertical-align: middle;\n",
       "    }\n",
       "\n",
       "    .dataframe tbody tr th {\n",
       "        vertical-align: top;\n",
       "    }\n",
       "\n",
       "    .dataframe thead th {\n",
       "        text-align: right;\n",
       "    }\n",
       "</style>\n",
       "<table border=\"1\" class=\"dataframe\">\n",
       "  <thead>\n",
       "    <tr style=\"text-align: right;\">\n",
       "      <th></th>\n",
       "      <th>osuked_id</th>\n",
       "      <th>gppd_idnr</th>\n",
       "      <th>esail_id</th>\n",
       "      <th>name</th>\n",
       "      <th>sett_bmu_id</th>\n",
       "      <th>ngc_bmu_id</th>\n",
       "      <th>4c_offshore_id</th>\n",
       "      <th>windpowernet_id</th>\n",
       "      <th>wikidata_id</th>\n",
       "      <th>wikipedia_id</th>\n",
       "      <th>power_technology_id</th>\n",
       "      <th>eutl_id</th>\n",
       "      <th>eic_id</th>\n",
       "    </tr>\n",
       "  </thead>\n",
       "  <tbody>\n",
       "    <tr>\n",
       "      <th>0</th>\n",
       "      <td>10000</td>\n",
       "      <td>NaN</td>\n",
       "      <td>MARK</td>\n",
       "      <td>Rothes Bio-Plant CHP</td>\n",
       "      <td>E_MARK-1, E_MARK-2</td>\n",
       "      <td>MARK-1, MARK-2</td>\n",
       "      <td>NaN</td>\n",
       "      <td>NaN</td>\n",
       "      <td>NaN</td>\n",
       "      <td>NaN</td>\n",
       "      <td>NaN</td>\n",
       "      <td>NaN</td>\n",
       "      <td>48W000000MARK-1D</td>\n",
       "    </tr>\n",
       "    <tr>\n",
       "      <th>1</th>\n",
       "      <td>10001</td>\n",
       "      <td>GBR1000377, GBR1000369</td>\n",
       "      <td>DIDC</td>\n",
       "      <td>Didcot</td>\n",
       "      <td>T_DIDC1, T_DIDC2, T_DIDC4, T_DIDC3, T_DIDC1G, ...</td>\n",
       "      <td>DIDC1, DIDC2, DIDC4, DIDC3, DIDC1G, DIDC2G, DI...</td>\n",
       "      <td>NaN</td>\n",
       "      <td>NaN</td>\n",
       "      <td>NaN</td>\n",
       "      <td>NaN</td>\n",
       "      <td>NaN</td>\n",
       "      <td>97165</td>\n",
       "      <td>48W00000DIDC01G1, 48W00000DIDC02GZ, 48W00000DI...</td>\n",
       "    </tr>\n",
       "    <tr>\n",
       "      <th>2</th>\n",
       "      <td>10002</td>\n",
       "      <td>GBR1000374, GBR1000375</td>\n",
       "      <td>ABTH</td>\n",
       "      <td>Aberthaw B</td>\n",
       "      <td>T_ABTH7, T_ABTH8, T_ABTH9, T_ABTH7G, T_ABTH8G,...</td>\n",
       "      <td>ABTH7, ABTH8, ABTH9, ABTH7G, ABTH8G, ABTH9G</td>\n",
       "      <td>NaN</td>\n",
       "      <td>NaN</td>\n",
       "      <td>NaN</td>\n",
       "      <td>NaN</td>\n",
       "      <td>NaN</td>\n",
       "      <td>97175</td>\n",
       "      <td>48W0000000ABTH7Y, 48W0000000ABTH8W, 48W0000000...</td>\n",
       "    </tr>\n",
       "  </tbody>\n",
       "</table>\n",
       "</div>"
      ],
      "text/plain": [
       "   osuked_id               gppd_idnr esail_id                  name  \\\n",
       "0      10000                     NaN     MARK  Rothes Bio-Plant CHP   \n",
       "1      10001  GBR1000377, GBR1000369     DIDC                Didcot   \n",
       "2      10002  GBR1000374, GBR1000375     ABTH            Aberthaw B   \n",
       "\n",
       "                                         sett_bmu_id  \\\n",
       "0                                 E_MARK-1, E_MARK-2   \n",
       "1  T_DIDC1, T_DIDC2, T_DIDC4, T_DIDC3, T_DIDC1G, ...   \n",
       "2  T_ABTH7, T_ABTH8, T_ABTH9, T_ABTH7G, T_ABTH8G,...   \n",
       "\n",
       "                                          ngc_bmu_id 4c_offshore_id  \\\n",
       "0                                     MARK-1, MARK-2            NaN   \n",
       "1  DIDC1, DIDC2, DIDC4, DIDC3, DIDC1G, DIDC2G, DI...            NaN   \n",
       "2        ABTH7, ABTH8, ABTH9, ABTH7G, ABTH8G, ABTH9G            NaN   \n",
       "\n",
       "  windpowernet_id wikidata_id wikipedia_id power_technology_id eutl_id  \\\n",
       "0             NaN         NaN          NaN                 NaN     NaN   \n",
       "1             NaN         NaN          NaN                 NaN   97165   \n",
       "2             NaN         NaN          NaN                 NaN   97175   \n",
       "\n",
       "                                              eic_id  \n",
       "0                                   48W000000MARK-1D  \n",
       "1  48W00000DIDC01G1, 48W00000DIDC02GZ, 48W00000DI...  \n",
       "2  48W0000000ABTH7Y, 48W0000000ABTH8W, 48W0000000...  "
      ]
     },
     "execution_count": 7,
     "metadata": {},
     "output_type": "execute_result"
    }
   ],
   "source": [
    "df_powerdict, missing_ngcs = add_eic_ids(df_powerdict, ngc_to_eic_id)\n",
    "\n",
    "df_powerdict.head(3)"
   ]
  },
  {
   "cell_type": "code",
   "execution_count": null,
   "id": "02280399-9b0e-4d5a-a20a-c81aa29207ed",
   "metadata": {},
   "outputs": [],
   "source": []
  },
  {
   "cell_type": "code",
   "execution_count": 8,
   "id": "7305391e-f553-4036-8ba0-d89b2f20af56",
   "metadata": {},
   "outputs": [
    {
     "data": {
      "text/plain": [
       "0.5894607843137255"
      ]
     },
     "execution_count": 8,
     "metadata": {},
     "output_type": "execute_result"
    }
   ],
   "source": [
    "len(missing_ngcs)/len(ngc_to_eic_id.keys())"
   ]
  },
  {
   "cell_type": "code",
   "execution_count": null,
   "id": "8f7ec7b2-70c6-4ebf-b34f-2beba243c22d",
   "metadata": {},
   "outputs": [],
   "source": []
  },
  {
   "cell_type": "code",
   "execution_count": 10,
   "id": "0dee38de-2246-44c0-aa28-05009f6370f1",
   "metadata": {},
   "outputs": [],
   "source": [
    "save_data = False\n",
    "\n",
    "if save_data == True:\n",
    "    df_powerdict.to_csv(powerdict_fp, index=False)"
   ]
  }
 ],
 "metadata": {
  "kernelspec": {
   "display_name": "PowerDictData",
   "language": "python",
   "name": "powerdictdata"
  },
  "language_info": {
   "codemirror_mode": {
    "name": "ipython",
    "version": 3
   },
   "file_extension": ".py",
   "mimetype": "text/x-python",
   "name": "python",
   "nbconvert_exporter": "python",
   "pygments_lexer": "ipython3",
   "version": "3.9.7"
  }
 },
 "nbformat": 4,
 "nbformat_minor": 5
}
