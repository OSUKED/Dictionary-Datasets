{
 "cells": [
  {
   "cell_type": "code",
   "execution_count": null,
   "id": "bd0e1193-149f-4f99-8ec3-c81c2ba2e167",
   "metadata": {},
   "outputs": [],
   "source": []
  },
  {
   "cell_type": "code",
   "execution_count": 37,
   "id": "f283392c-0322-4803-a8dc-e0ccf26d4e78",
   "metadata": {},
   "outputs": [],
   "source": [
    "import pandas as pd\n",
    "\n",
    "import requests\n",
    "from bs4 import BeautifulSoup as bs\n",
    "\n",
    "import seaborn as sns\n",
    "import matplotlib.pyplot as plt\n",
    "\n",
    "import FEAutils as hlp"
   ]
  },
  {
   "cell_type": "code",
   "execution_count": null,
   "id": "78c5e2a8-d5a3-49e8-9481-75bd3621b411",
   "metadata": {},
   "outputs": [],
   "source": [
    "# any inaccuracie should be reported to `REPD.enquiries@beis.gov.uk`"
   ]
  },
  {
   "cell_type": "code",
   "execution_count": 29,
   "id": "c2379739-b89a-48a5-958e-53a99c410b3b",
   "metadata": {},
   "outputs": [],
   "source": [
    "def get_latest_csv_url(\n",
    "    url: str='https://www.gov.uk/government/publications/renewable-energy-planning-database-monthly-extract'\n",
    "):\n",
    "    r = requests.get(url)\n",
    "\n",
    "    soup = bs(r.text)\n",
    "    csv_downloads = soup.find_all('strong', text='Download CSV')\n",
    "\n",
    "    assert len(csv_downloads) == 1\n",
    "    csv_url = csv_downloads[0].parent['href']\n",
    "    \n",
    "    return csv_url"
   ]
  },
  {
   "cell_type": "code",
   "execution_count": 30,
   "id": "0152c3de-87fe-4996-b930-9933e4d1165c",
   "metadata": {},
   "outputs": [
    {
     "data": {
      "text/plain": [
       "'https://assets.publishing.service.gov.uk/government/uploads/system/uploads/attachment_data/file/1008403/renewable-energy-planning-database-q2-june-2021.csv'"
      ]
     },
     "execution_count": 30,
     "metadata": {},
     "output_type": "execute_result"
    }
   ],
   "source": [
    "csv_url = get_latest_csv_url()\n",
    "\n",
    "csv_url"
   ]
  },
  {
   "cell_type": "code",
   "execution_count": null,
   "id": "83e59dbc-37b4-4957-945d-878f79004e79",
   "metadata": {},
   "outputs": [],
   "source": []
  },
  {
   "cell_type": "code",
   "execution_count": 28,
   "id": "6f6a3b41-5a36-49cc-88b7-f12963e10ff1",
   "metadata": {},
   "outputs": [
    {
     "data": {
      "text/html": [
       "<div>\n",
       "<style scoped>\n",
       "    .dataframe tbody tr th:only-of-type {\n",
       "        vertical-align: middle;\n",
       "    }\n",
       "\n",
       "    .dataframe tbody tr th {\n",
       "        vertical-align: top;\n",
       "    }\n",
       "\n",
       "    .dataframe thead th {\n",
       "        text-align: right;\n",
       "    }\n",
       "</style>\n",
       "<table border=\"1\" class=\"dataframe\">\n",
       "  <thead>\n",
       "    <tr style=\"text-align: right;\">\n",
       "      <th></th>\n",
       "      <th>Old Ref ID</th>\n",
       "      <th>Ref ID</th>\n",
       "      <th>Record Last Updated (dd/mm/yyyy)</th>\n",
       "      <th>Operator (or Applicant)</th>\n",
       "      <th>Site Name</th>\n",
       "      <th>Technology Type</th>\n",
       "      <th>Storage Type</th>\n",
       "      <th>Storage Co-location REPD Ref ID</th>\n",
       "      <th>Installed Capacity (MWelec)</th>\n",
       "      <th>CHP Enabled</th>\n",
       "      <th>...</th>\n",
       "      <th>Secretary of State - Granted</th>\n",
       "      <th>Planning Permission Expired</th>\n",
       "      <th>Under Construction</th>\n",
       "      <th>Operational</th>\n",
       "      <th>Heat Network Ref</th>\n",
       "      <th>Unnamed: 48</th>\n",
       "      <th>Unnamed: 49</th>\n",
       "      <th>Unnamed: 50</th>\n",
       "      <th>Unnamed: 51</th>\n",
       "      <th>Unnamed: 52</th>\n",
       "    </tr>\n",
       "  </thead>\n",
       "  <tbody>\n",
       "    <tr>\n",
       "      <th>0</th>\n",
       "      <td>N00053B</td>\n",
       "      <td>1</td>\n",
       "      <td>07/07/2009</td>\n",
       "      <td>RWE npower</td>\n",
       "      <td>Aberthaw Power Station Biomass</td>\n",
       "      <td>Biomass (co-firing)</td>\n",
       "      <td>NaN</td>\n",
       "      <td>NaN</td>\n",
       "      <td>35.0</td>\n",
       "      <td>No</td>\n",
       "      <td>...</td>\n",
       "      <td>NaN</td>\n",
       "      <td>NaN</td>\n",
       "      <td>01/05/2006</td>\n",
       "      <td>01/05/2007</td>\n",
       "      <td>NaN</td>\n",
       "      <td>NaN</td>\n",
       "      <td>NaN</td>\n",
       "      <td>NaN</td>\n",
       "      <td>NaN</td>\n",
       "      <td>NaN</td>\n",
       "    </tr>\n",
       "    <tr>\n",
       "      <th>1</th>\n",
       "      <td>AA110</td>\n",
       "      <td>2</td>\n",
       "      <td>20/11/2017</td>\n",
       "      <td>Orsted (formerly Dong Energy) / Peel Energy</td>\n",
       "      <td>Hunterston - cofiring</td>\n",
       "      <td>Biomass (co-firing)</td>\n",
       "      <td>NaN</td>\n",
       "      <td>NaN</td>\n",
       "      <td>170.0</td>\n",
       "      <td>No</td>\n",
       "      <td>...</td>\n",
       "      <td>NaN</td>\n",
       "      <td>NaN</td>\n",
       "      <td>NaN</td>\n",
       "      <td>NaN</td>\n",
       "      <td>NaN</td>\n",
       "      <td>NaN</td>\n",
       "      <td>NaN</td>\n",
       "      <td>NaN</td>\n",
       "      <td>NaN</td>\n",
       "      <td>NaN</td>\n",
       "    </tr>\n",
       "    <tr>\n",
       "      <th>2</th>\n",
       "      <td>B0730</td>\n",
       "      <td>3</td>\n",
       "      <td>04/06/2020</td>\n",
       "      <td>Scottish and Southern Energy (SSE)</td>\n",
       "      <td>Ferrybridge Multifuel 2 (FM2)</td>\n",
       "      <td>EfW Incineration</td>\n",
       "      <td>NaN</td>\n",
       "      <td>NaN</td>\n",
       "      <td>70.0</td>\n",
       "      <td>No</td>\n",
       "      <td>...</td>\n",
       "      <td>NaN</td>\n",
       "      <td>28/10/2020</td>\n",
       "      <td>01/09/2016</td>\n",
       "      <td>20/12/2019</td>\n",
       "      <td>NaN</td>\n",
       "      <td>NaN</td>\n",
       "      <td>NaN</td>\n",
       "      <td>NaN</td>\n",
       "      <td>NaN</td>\n",
       "      <td>NaN</td>\n",
       "    </tr>\n",
       "  </tbody>\n",
       "</table>\n",
       "<p>3 rows × 53 columns</p>\n",
       "</div>"
      ],
      "text/plain": [
       "  Old Ref ID  Ref ID Record Last Updated (dd/mm/yyyy)  \\\n",
       "0    N00053B       1                       07/07/2009   \n",
       "1      AA110       2                       20/11/2017   \n",
       "2      B0730       3                       04/06/2020   \n",
       "\n",
       "                       Operator (or Applicant)  \\\n",
       "0                                   RWE npower   \n",
       "1  Orsted (formerly Dong Energy) / Peel Energy   \n",
       "2           Scottish and Southern Energy (SSE)   \n",
       "\n",
       "                        Site Name      Technology Type Storage Type  \\\n",
       "0  Aberthaw Power Station Biomass  Biomass (co-firing)          NaN   \n",
       "1           Hunterston - cofiring  Biomass (co-firing)          NaN   \n",
       "2   Ferrybridge Multifuel 2 (FM2)     EfW Incineration          NaN   \n",
       "\n",
       "  Storage Co-location REPD Ref ID  Installed Capacity (MWelec) CHP Enabled  \\\n",
       "0                             NaN                         35.0          No   \n",
       "1                             NaN                        170.0          No   \n",
       "2                             NaN                         70.0          No   \n",
       "\n",
       "   ...  Secretary of State - Granted  Planning Permission Expired  \\\n",
       "0  ...                           NaN                          NaN   \n",
       "1  ...                           NaN                          NaN   \n",
       "2  ...                           NaN                   28/10/2020   \n",
       "\n",
       "   Under Construction  Operational  Heat Network Ref  Unnamed: 48 Unnamed: 49  \\\n",
       "0          01/05/2006   01/05/2007               NaN          NaN         NaN   \n",
       "1                 NaN          NaN               NaN          NaN         NaN   \n",
       "2          01/09/2016   20/12/2019               NaN          NaN         NaN   \n",
       "\n",
       "  Unnamed: 50 Unnamed: 51 Unnamed: 52  \n",
       "0         NaN         NaN         NaN  \n",
       "1         NaN         NaN         NaN  \n",
       "2         NaN         NaN         NaN  \n",
       "\n",
       "[3 rows x 53 columns]"
      ]
     },
     "execution_count": 28,
     "metadata": {},
     "output_type": "execute_result"
    }
   ],
   "source": [
    "df_repd = pd.read_csv(csv_url, encoding='cp1252')\n",
    "\n",
    "df_repd.head(3)"
   ]
  },
  {
   "cell_type": "code",
   "execution_count": null,
   "id": "f8d40994-3227-4472-ad82-2c647487ad3d",
   "metadata": {},
   "outputs": [],
   "source": []
  },
  {
   "cell_type": "code",
   "execution_count": null,
   "id": "31b9d9cd-fdae-4daf-a1c7-590f74673a75",
   "metadata": {},
   "outputs": [],
   "source": [
    "# should confirm that the column names match the JSON metadata\n",
    "# if so (and the data is different) then save the latest csv"
   ]
  },
  {
   "cell_type": "code",
   "execution_count": null,
   "id": "c8ffbe42-ff0d-403f-88bd-7b2d90f20a93",
   "metadata": {},
   "outputs": [],
   "source": []
  },
  {
   "cell_type": "code",
   "execution_count": 31,
   "id": "cc01c99c-0abc-4898-b74d-301b195cf9dd",
   "metadata": {},
   "outputs": [
    {
     "data": {
      "text/plain": [
       "Solar Photovoltaics                 2352\n",
       "Wind Onshore                        2216\n",
       "Battery                              501\n",
       "Landfill Gas                         289\n",
       "Anaerobic Digestion                  267\n",
       "Biomass (dedicated)                  211\n",
       "EfW Incineration                     184\n",
       "Small Hydro                          139\n",
       "Advanced Conversion Technologies     130\n",
       "Wind Offshore                         73\n",
       "Large Hydro                           29\n",
       "Tidal Barrage and Tidal Stream        27\n",
       "Sewage Sludge Digestion               12\n",
       "Pumped Storage Hydroelectricity       10\n",
       "Shoreline Wave                         8\n",
       "Biomass (co-firing)                    4\n",
       "Hot Dry Rocks (HDR)                    2\n",
       "Liquid Air Energy Storage              2\n",
       "Flywheels                              1\n",
       "Fuel Cell (Hydrogen)                   1\n",
       "Compressed Air Energy Storage          1\n",
       "Ground Source Heat Pumps               1\n",
       "Gas Fired CHP                          1\n",
       "Name: Technology Type, dtype: int64"
      ]
     },
     "execution_count": 31,
     "metadata": {},
     "output_type": "execute_result"
    }
   ],
   "source": [
    "df_repd['Technology Type'].value_counts()"
   ]
  },
  {
   "cell_type": "code",
   "execution_count": null,
   "id": "47a3f1a1-d343-459c-b99a-110b8ad1f28a",
   "metadata": {},
   "outputs": [],
   "source": []
  },
  {
   "cell_type": "code",
   "execution_count": 41,
   "id": "8b76f959-4bbb-478e-9664-4b61c1605f7a",
   "metadata": {},
   "outputs": [
    {
     "data": {
      "image/png": "[encoded data removed]",
      "text/plain": [
       "<Figure size 900x600 with 1 Axes>"
      ]
     },
     "metadata": {
      "needs_background": "light"
     },
     "output_type": "display_data"
    }
   ],
   "source": [
    "technology_type = 'Wind Onshore'\n",
    "\n",
    "df_repd_onw = df_repd.query('`Technology Type`==@technology_type')\n",
    "\n",
    "# Plotting\n",
    "fig, ax = plt.subplots(dpi=150)\n",
    "\n",
    "sns.histplot(df_repd_onw['Installed Capacity (MWelec)'], ax=ax)\n",
    "\n",
    "hlp.hide_spines(ax)\n",
    "ax.set_yscale('log')"
   ]
  },
  {
   "cell_type": "code",
   "execution_count": null,
   "id": "ffb33549-6580-499b-8798-7be0bc0451c6",
   "metadata": {},
   "outputs": [],
   "source": []
  },
  {
   "cell_type": "code",
   "execution_count": null,
   "id": "e1326fe9-7480-4967-9cdf-3fba4ee8148c",
   "metadata": {},
   "outputs": [],
   "source": [
    "# plot percentage of sites v total capacity\n",
    "# how many sites are needed to get to 50% of GB capacity?"
   ]
  },
  {
   "cell_type": "code",
   "execution_count": null,
   "id": "296e9aad-2281-45ab-b1ba-8c77e8b668e2",
   "metadata": {},
   "outputs": [],
   "source": []
  }
 ],
 "metadata": {
  "kernelspec": {
   "display_name": "PowerDictData",
   "language": "python",
   "name": "powerdictdata"
  },
  "language_info": {
   "codemirror_mode": {
    "name": "ipython",
    "version": 3
   },
   "file_extension": ".py",
   "mimetype": "text/x-python",
   "name": "python",
   "nbconvert_exporter": "python",
   "pygments_lexer": "ipython3",
   "version": "3.9.7"
  }
 },
 "nbformat": 4,
 "nbformat_minor": 5
}
