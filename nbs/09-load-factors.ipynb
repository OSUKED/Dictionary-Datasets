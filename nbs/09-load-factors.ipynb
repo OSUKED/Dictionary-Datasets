{
 "cells": [
  {
   "cell_type": "code",
   "execution_count": null,
   "id": "6fe82667-e6da-4f57-b678-4a1205f611a8",
   "metadata": {},
   "outputs": [],
   "source": []
  },
  {
   "cell_type": "markdown",
   "id": "987b5c6e-9307-48ea-ac6c-97536cef5e1e",
   "metadata": {},
   "source": [
    "# Power Plant Load Factors\n",
    "\n",
    "<br>\n",
    "\n",
    "### Imports"
   ]
  },
  {
   "cell_type": "code",
   "execution_count": 9,
   "id": "82cc2299-3419-46ed-9188-a0b7f37d6a48",
   "metadata": {},
   "outputs": [],
   "source": [
    "import numpy as np\n",
    "import pandas as pd\n",
    "\n",
    "import dask\n",
    "import dask.dataframe as dd\n",
    "\n",
    "import os\n",
    "import warnings\n",
    "from tqdm import tqdm"
   ]
  },
  {
   "cell_type": "markdown",
   "id": "86ef461b-1353-4c55-81cc-62121f149411",
   "metadata": {},
   "source": [
    "<br>\n",
    "\n",
    "### User Inputs"
   ]
  },
  {
   "cell_type": "code",
   "execution_count": 2,
   "id": "2153ffee-a3de-4dbf-b5dc-fa26cc580a01",
   "metadata": {},
   "outputs": [],
   "source": [
    "static_data_dir = 'C:/Users/Ayrto/Desktop/Freelance Work/FEA/work/data-hub/data/static'\n",
    "powerdict_fp = 'C:/Users/Ayrto/Desktop/Side Projects/Power-Station-Dictionary/data/dictionary/ids.csv'"
   ]
  },
  {
   "cell_type": "code",
   "execution_count": null,
   "id": "b43621c0-c5bd-440f-bc2d-050573e514d6",
   "metadata": {},
   "outputs": [],
   "source": []
  },
  {
   "cell_type": "code",
   "execution_count": 3,
   "id": "65c4f2ce-52de-4d60-b10e-94c09183e11e",
   "metadata": {},
   "outputs": [],
   "source": [
    "@dask.delayed\n",
    "def read_B1610_file(filename, columns):\n",
    "    df_B1610_week = pd.read_csv(filename)\n",
    "    cols_to_add = list(set(columns) - set(df_B1610_week.columns))\n",
    "    df_B1610_week[cols_to_add] = np.NaN\n",
    "    df_B1610_week = df_B1610_week[columns]\n",
    "    \n",
    "    return df_B1610_week\n",
    "\n",
    "def get_B1610_columns(static_dir, source_name='bmrs', stream='B1610'):\n",
    "    B1610_files = [f for f in os.listdir(f'{static_dir}/{source_name}/{stream}') if '.csv' in f]\n",
    "\n",
    "    columns = []\n",
    "\n",
    "    for B1610_file in tqdm(B1610_files):\n",
    "        df_B1610_week = pd.read_csv(f'{static_dir}/{source_name}/{stream}/{B1610_file}')\n",
    "        columns += list(df_B1610_week.columns)\n",
    "\n",
    "    columns = ['datetime'] + sorted(list(set(columns)-set(['datetime'])))\n",
    "\n",
    "    return columns\n",
    "\n",
    "def load_B1610_dask_stream_df(static_dir, source_name, stream, dt_col='datetime'):\n",
    "    # Identifying columns\n",
    "    columns = get_B1610_columns(static_dir)\n",
    "    \n",
    "    # Loading data\n",
    "    B1610_files = [f for f in os.listdir(f'{static_dir}/{source_name}/{stream}') if '.csv' in f]\n",
    "    df_B1610 = dd.from_delayed([read_B1610_file(f'{static_dir}/{source_name}/{stream}/{B1610_file}', columns) for B1610_file in B1610_files])\n",
    "\n",
    "    # Formatting date index\n",
    "    if dt_col is not None:\n",
    "        df_B1610[dt_col] = df_B1610[dt_col].map(lambda dt: pd.to_datetime(dt, format='%Y-%m-%d %H:%M:%S', errors='coerce', utc=True))\n",
    "        df_B1610 = df_B1610.set_index(dt_col)\n",
    "    \n",
    "    return df_B1610"
   ]
  },
  {
   "cell_type": "code",
   "execution_count": 4,
   "id": "3e36e301-a7cb-4f05-8e01-b2a4f31ccfdb",
   "metadata": {},
   "outputs": [
    {
     "name": "stderr",
     "output_type": "stream",
     "text": [
      "100%|██████████| 288/288 [00:17<00:00, 16.00it/s]\n"
     ]
    },
    {
     "name": "stdout",
     "output_type": "stream",
     "text": [
      "Wall time: 2min 56s\n"
     ]
    },
    {
     "data": {
      "text/html": [
       "<div>\n",
       "<style scoped>\n",
       "    .dataframe tbody tr th:only-of-type {\n",
       "        vertical-align: middle;\n",
       "    }\n",
       "\n",
       "    .dataframe tbody tr th {\n",
       "        vertical-align: top;\n",
       "    }\n",
       "\n",
       "    .dataframe thead th {\n",
       "        text-align: right;\n",
       "    }\n",
       "</style>\n",
       "<table border=\"1\" class=\"dataframe\">\n",
       "  <thead>\n",
       "    <tr style=\"text-align: right;\">\n",
       "      <th></th>\n",
       "      <th>ABRBO-1</th>\n",
       "      <th>ABRTW-1</th>\n",
       "      <th>ABTH7</th>\n",
       "      <th>ABTH7G</th>\n",
       "      <th>ABTH8</th>\n",
       "      <th>ABTH8G</th>\n",
       "      <th>ABTH9</th>\n",
       "      <th>ABTH9G</th>\n",
       "      <th>ACHRW-1</th>\n",
       "      <th>AKGLW-2</th>\n",
       "      <th>...</th>\n",
       "      <th>WILCT-1</th>\n",
       "      <th>WLNYO-2</th>\n",
       "      <th>WLNYO-3</th>\n",
       "      <th>WLNYO-4</th>\n",
       "      <th>WLNYW-1</th>\n",
       "      <th>WTMSO-1</th>\n",
       "      <th>WYLF-1</th>\n",
       "      <th>WYLF-2</th>\n",
       "      <th>WYLF-3</th>\n",
       "      <th>WYLF-4</th>\n",
       "    </tr>\n",
       "    <tr>\n",
       "      <th>datetime</th>\n",
       "      <th></th>\n",
       "      <th></th>\n",
       "      <th></th>\n",
       "      <th></th>\n",
       "      <th></th>\n",
       "      <th></th>\n",
       "      <th></th>\n",
       "      <th></th>\n",
       "      <th></th>\n",
       "      <th></th>\n",
       "      <th></th>\n",
       "      <th></th>\n",
       "      <th></th>\n",
       "      <th></th>\n",
       "      <th></th>\n",
       "      <th></th>\n",
       "      <th></th>\n",
       "      <th></th>\n",
       "      <th></th>\n",
       "      <th></th>\n",
       "      <th></th>\n",
       "    </tr>\n",
       "  </thead>\n",
       "  <tbody>\n",
       "    <tr>\n",
       "      <th>2015-10-04 23:00:00+00:00</th>\n",
       "      <td>NaN</td>\n",
       "      <td>NaN</td>\n",
       "      <td>421.692</td>\n",
       "      <td>NaN</td>\n",
       "      <td>0.0</td>\n",
       "      <td>NaN</td>\n",
       "      <td>NaN</td>\n",
       "      <td>NaN</td>\n",
       "      <td>NaN</td>\n",
       "      <td>NaN</td>\n",
       "      <td>...</td>\n",
       "      <td>NaN</td>\n",
       "      <td>132.90</td>\n",
       "      <td>NaN</td>\n",
       "      <td>NaN</td>\n",
       "      <td>95.602</td>\n",
       "      <td>9.858</td>\n",
       "      <td>227.380</td>\n",
       "      <td>212.41</td>\n",
       "      <td>NaN</td>\n",
       "      <td>NaN</td>\n",
       "    </tr>\n",
       "    <tr>\n",
       "      <th>2015-10-04 23:30:00+00:00</th>\n",
       "      <td>NaN</td>\n",
       "      <td>NaN</td>\n",
       "      <td>425.096</td>\n",
       "      <td>NaN</td>\n",
       "      <td>0.0</td>\n",
       "      <td>NaN</td>\n",
       "      <td>NaN</td>\n",
       "      <td>NaN</td>\n",
       "      <td>NaN</td>\n",
       "      <td>NaN</td>\n",
       "      <td>...</td>\n",
       "      <td>NaN</td>\n",
       "      <td>143.02</td>\n",
       "      <td>NaN</td>\n",
       "      <td>NaN</td>\n",
       "      <td>107.324</td>\n",
       "      <td>14.890</td>\n",
       "      <td>227.470</td>\n",
       "      <td>212.53</td>\n",
       "      <td>NaN</td>\n",
       "      <td>NaN</td>\n",
       "    </tr>\n",
       "    <tr>\n",
       "      <th>2015-10-05 00:00:00+00:00</th>\n",
       "      <td>NaN</td>\n",
       "      <td>NaN</td>\n",
       "      <td>423.292</td>\n",
       "      <td>NaN</td>\n",
       "      <td>0.0</td>\n",
       "      <td>NaN</td>\n",
       "      <td>NaN</td>\n",
       "      <td>NaN</td>\n",
       "      <td>NaN</td>\n",
       "      <td>NaN</td>\n",
       "      <td>...</td>\n",
       "      <td>NaN</td>\n",
       "      <td>158.98</td>\n",
       "      <td>NaN</td>\n",
       "      <td>NaN</td>\n",
       "      <td>118.342</td>\n",
       "      <td>23.074</td>\n",
       "      <td>227.666</td>\n",
       "      <td>212.72</td>\n",
       "      <td>NaN</td>\n",
       "      <td>NaN</td>\n",
       "    </tr>\n",
       "  </tbody>\n",
       "</table>\n",
       "<p>3 rows × 324 columns</p>\n",
       "</div>"
      ],
      "text/plain": [
       "                           ABRBO-1  ABRTW-1    ABTH7  ABTH7G  ABTH8  ABTH8G  \\\n",
       "datetime                                                                      \n",
       "2015-10-04 23:00:00+00:00      NaN      NaN  421.692     NaN    0.0     NaN   \n",
       "2015-10-04 23:30:00+00:00      NaN      NaN  425.096     NaN    0.0     NaN   \n",
       "2015-10-05 00:00:00+00:00      NaN      NaN  423.292     NaN    0.0     NaN   \n",
       "\n",
       "                           ABTH9  ABTH9G  ACHRW-1  AKGLW-2  ...  WILCT-1  \\\n",
       "datetime                                                    ...            \n",
       "2015-10-04 23:00:00+00:00    NaN     NaN      NaN      NaN  ...      NaN   \n",
       "2015-10-04 23:30:00+00:00    NaN     NaN      NaN      NaN  ...      NaN   \n",
       "2015-10-05 00:00:00+00:00    NaN     NaN      NaN      NaN  ...      NaN   \n",
       "\n",
       "                           WLNYO-2  WLNYO-3  WLNYO-4  WLNYW-1  WTMSO-1  \\\n",
       "datetime                                                                 \n",
       "2015-10-04 23:00:00+00:00   132.90      NaN      NaN   95.602    9.858   \n",
       "2015-10-04 23:30:00+00:00   143.02      NaN      NaN  107.324   14.890   \n",
       "2015-10-05 00:00:00+00:00   158.98      NaN      NaN  118.342   23.074   \n",
       "\n",
       "                            WYLF-1  WYLF-2  WYLF-3  WYLF-4  \n",
       "datetime                                                    \n",
       "2015-10-04 23:00:00+00:00  227.380  212.41     NaN     NaN  \n",
       "2015-10-04 23:30:00+00:00  227.470  212.53     NaN     NaN  \n",
       "2015-10-05 00:00:00+00:00  227.666  212.72     NaN     NaN  \n",
       "\n",
       "[3 rows x 324 columns]"
      ]
     },
     "execution_count": 4,
     "metadata": {},
     "output_type": "execute_result"
    }
   ],
   "source": [
    "%%time\n",
    "\n",
    "source_name = 'bmrs'\n",
    "stream = 'B1610'\n",
    "\n",
    "with warnings.catch_warnings():\n",
    "    warnings.simplefilter(action='ignore', category=pd.errors.PerformanceWarning)\n",
    "    df_B1610 = load_B1610_dask_stream_df(static_data_dir, source_name, stream).compute()   \n",
    "\n",
    "df_B1610.head(3)"
   ]
  },
  {
   "cell_type": "code",
   "execution_count": null,
   "id": "031d69d9-56ba-410e-8abd-04c029046c99",
   "metadata": {},
   "outputs": [],
   "source": []
  },
  {
   "cell_type": "code",
   "execution_count": 5,
   "id": "341a629c-9add-4001-a42c-9ae9149d5b19",
   "metadata": {},
   "outputs": [
    {
     "data": {
      "text/html": [
       "<div>\n",
       "<style scoped>\n",
       "    .dataframe tbody tr th:only-of-type {\n",
       "        vertical-align: middle;\n",
       "    }\n",
       "\n",
       "    .dataframe tbody tr th {\n",
       "        vertical-align: top;\n",
       "    }\n",
       "\n",
       "    .dataframe thead th {\n",
       "        text-align: right;\n",
       "    }\n",
       "</style>\n",
       "<table border=\"1\" class=\"dataframe\">\n",
       "  <thead>\n",
       "    <tr style=\"text-align: right;\">\n",
       "      <th></th>\n",
       "      <th>dictionary_id</th>\n",
       "      <th>gppd_idnr</th>\n",
       "      <th>esail_id</th>\n",
       "      <th>name</th>\n",
       "      <th>sett_bmu_id</th>\n",
       "      <th>ngc_bmu_id</th>\n",
       "      <th>4c_offshore_id</th>\n",
       "      <th>windpowernet_id</th>\n",
       "      <th>wikidata_id</th>\n",
       "      <th>wikipedia_id</th>\n",
       "      <th>power_technology_id</th>\n",
       "      <th>eutl_id</th>\n",
       "      <th>eic_id</th>\n",
       "      <th>cfd_id</th>\n",
       "      <th>jrc_id</th>\n",
       "      <th>iaea_id</th>\n",
       "      <th>old_repd_id</th>\n",
       "      <th>new_repd_id</th>\n",
       "    </tr>\n",
       "  </thead>\n",
       "  <tbody>\n",
       "    <tr>\n",
       "      <th>0</th>\n",
       "      <td>10000</td>\n",
       "      <td>NaN</td>\n",
       "      <td>MARK</td>\n",
       "      <td>Rothes Bio-Plant CHP</td>\n",
       "      <td>E_MARK-1, E_MARK-2</td>\n",
       "      <td>MARK-1, MARK-2</td>\n",
       "      <td>NaN</td>\n",
       "      <td>NaN</td>\n",
       "      <td>NaN</td>\n",
       "      <td>NaN</td>\n",
       "      <td>NaN</td>\n",
       "      <td>NaN</td>\n",
       "      <td>48W000000MARK-1D</td>\n",
       "      <td>NaN</td>\n",
       "      <td>NaN</td>\n",
       "      <td>NaN</td>\n",
       "      <td>NaN</td>\n",
       "      <td>NaN</td>\n",
       "    </tr>\n",
       "    <tr>\n",
       "      <th>1</th>\n",
       "      <td>10001</td>\n",
       "      <td>GBR1000377, GBR1000369</td>\n",
       "      <td>DIDC</td>\n",
       "      <td>Didcot</td>\n",
       "      <td>T_DIDC1, T_DIDC2, T_DIDC4, T_DIDC3, T_DIDC1G, ...</td>\n",
       "      <td>DIDC1, DIDC2, DIDC4, DIDC3, DIDC1G, DIDC2G, DI...</td>\n",
       "      <td>NaN</td>\n",
       "      <td>NaN</td>\n",
       "      <td>NaN</td>\n",
       "      <td>NaN</td>\n",
       "      <td>NaN</td>\n",
       "      <td>97165</td>\n",
       "      <td>48W00000DIDC01G1, 48W00000DIDC02GZ, 48W00000DI...</td>\n",
       "      <td>NaN</td>\n",
       "      <td>NaN</td>\n",
       "      <td>NaN</td>\n",
       "      <td>NaN</td>\n",
       "      <td>NaN</td>\n",
       "    </tr>\n",
       "    <tr>\n",
       "      <th>2</th>\n",
       "      <td>10002</td>\n",
       "      <td>GBR1000374, GBR1000375</td>\n",
       "      <td>ABTH</td>\n",
       "      <td>Aberthaw B</td>\n",
       "      <td>T_ABTH7, T_ABTH8, T_ABTH9, T_ABTH7G, T_ABTH8G,...</td>\n",
       "      <td>ABTH7, ABTH8, ABTH9, ABTH7G, ABTH8G, ABTH9G</td>\n",
       "      <td>NaN</td>\n",
       "      <td>NaN</td>\n",
       "      <td>Q4667192</td>\n",
       "      <td>Aberthaw_power_stations</td>\n",
       "      <td>NaN</td>\n",
       "      <td>97175</td>\n",
       "      <td>48W0000000ABTH7Y, 48W0000000ABTH8W, 48W0000000...</td>\n",
       "      <td>NaN</td>\n",
       "      <td>NaN</td>\n",
       "      <td>NaN</td>\n",
       "      <td>NaN</td>\n",
       "      <td>NaN</td>\n",
       "    </tr>\n",
       "  </tbody>\n",
       "</table>\n",
       "</div>"
      ],
      "text/plain": [
       "   dictionary_id               gppd_idnr esail_id                  name  \\\n",
       "0          10000                     NaN     MARK  Rothes Bio-Plant CHP   \n",
       "1          10001  GBR1000377, GBR1000369     DIDC                Didcot   \n",
       "2          10002  GBR1000374, GBR1000375     ABTH            Aberthaw B   \n",
       "\n",
       "                                         sett_bmu_id  \\\n",
       "0                                 E_MARK-1, E_MARK-2   \n",
       "1  T_DIDC1, T_DIDC2, T_DIDC4, T_DIDC3, T_DIDC1G, ...   \n",
       "2  T_ABTH7, T_ABTH8, T_ABTH9, T_ABTH7G, T_ABTH8G,...   \n",
       "\n",
       "                                          ngc_bmu_id 4c_offshore_id  \\\n",
       "0                                     MARK-1, MARK-2            NaN   \n",
       "1  DIDC1, DIDC2, DIDC4, DIDC3, DIDC1G, DIDC2G, DI...            NaN   \n",
       "2        ABTH7, ABTH8, ABTH9, ABTH7G, ABTH8G, ABTH9G            NaN   \n",
       "\n",
       "  windpowernet_id wikidata_id             wikipedia_id power_technology_id  \\\n",
       "0             NaN         NaN                      NaN                 NaN   \n",
       "1             NaN         NaN                      NaN                 NaN   \n",
       "2             NaN    Q4667192  Aberthaw_power_stations                 NaN   \n",
       "\n",
       "  eutl_id                                             eic_id cfd_id jrc_id  \\\n",
       "0     NaN                                   48W000000MARK-1D    NaN    NaN   \n",
       "1   97165  48W00000DIDC01G1, 48W00000DIDC02GZ, 48W00000DI...    NaN    NaN   \n",
       "2   97175  48W0000000ABTH7Y, 48W0000000ABTH8W, 48W0000000...    NaN    NaN   \n",
       "\n",
       "  iaea_id old_repd_id new_repd_id  \n",
       "0     NaN         NaN         NaN  \n",
       "1     NaN         NaN         NaN  \n",
       "2     NaN         NaN         NaN  "
      ]
     },
     "execution_count": 5,
     "metadata": {},
     "output_type": "execute_result"
    }
   ],
   "source": [
    "df_powerdict = pd.read_csv(powerdict_fp)\n",
    "\n",
    "df_powerdict.head(3)"
   ]
  },
  {
   "cell_type": "code",
   "execution_count": null,
   "id": "6de3e11d-5f74-4c1e-92f5-be3b5b161963",
   "metadata": {},
   "outputs": [],
   "source": []
  },
  {
   "cell_type": "code",
   "execution_count": 6,
   "id": "2d40b215-3f0b-4100-950b-02bf4946f7df",
   "metadata": {},
   "outputs": [
    {
     "data": {
      "text/plain": [
       "444"
      ]
     },
     "execution_count": 6,
     "metadata": {},
     "output_type": "execute_result"
    }
   ],
   "source": [
    "flatten_list = lambda list_: [item for sublist in list_ for item in sublist]\n",
    "\n",
    "powerdict_ngc_bmu_ids = sorted(list(set(flatten_list(df_powerdict['ngc_bmu_id'].dropna().str.split(', ').to_list()))))\n",
    "\n",
    "len(powerdict_ngc_bmu_ids)"
   ]
  },
  {
   "cell_type": "code",
   "execution_count": null,
   "id": "8c4dd89e-37e8-4465-a06c-8718a763bf80",
   "metadata": {},
   "outputs": [],
   "source": []
  },
  {
   "cell_type": "code",
   "execution_count": 7,
   "id": "82b06d69-fc35-4c1c-9f79-1b28b5c26841",
   "metadata": {},
   "outputs": [
    {
     "data": {
      "text/plain": [
       "['GRAI1G', 'GRAI4G', 'KNLCV-1', 'LCSMH-1', 'SEEL-1', 'WILCT-1']"
      ]
     },
     "execution_count": 7,
     "metadata": {},
     "output_type": "execute_result"
    }
   ],
   "source": [
    "B1610_ngc_bmu_ids = sorted(list(df_B1610.columns))\n",
    "\n",
    "missing_ngc_bmu_ids_from_powerdict = sorted(list(set(B1610_ngc_bmu_ids) - set(powerdict_ngc_bmu_ids)))\n",
    "\n",
    "missing_ngc_bmu_ids_from_powerdict"
   ]
  },
  {
   "cell_type": "code",
   "execution_count": null,
   "id": "a1ac95fe-25c1-476d-b904-58c7b9bfc6d9",
   "metadata": {},
   "outputs": [],
   "source": []
  },
  {
   "cell_type": "code",
   "execution_count": 11,
   "id": "444545f9-ae00-440c-af01-284942ff64de",
   "metadata": {},
   "outputs": [
    {
     "data": {
      "text/plain": [
       "year  ngc_bmu_id\n",
       "2015  ABTH7         0.743227\n",
       "      ABTH7G        0.002164\n",
       "      ABTH8         0.764681\n",
       "      ABTH8G        0.002478\n",
       "      ABTH9         0.044415\n",
       "                      ...   \n",
       "2021  WLNYO-2       0.472969\n",
       "      WLNYO-3       0.487233\n",
       "      WLNYO-4       0.435120\n",
       "      WLNYW-1       0.400564\n",
       "      WTMSO-1       0.498671\n",
       "Name: load_factor, Length: 1806, dtype: float64"
      ]
     },
     "execution_count": 11,
     "metadata": {},
     "output_type": "execute_result"
    }
   ],
   "source": [
    "s_load_factors = (df_B1610.resample('Y').mean()/df_B1610.max()).stack().dropna()\n",
    "s_load_factors.index = pd.MultiIndex.from_arrays([s_load_factors.index.get_level_values(0).year, s_load_factors.index.get_level_values(1)], names=['year', 'ngc_bmu_id'])\n",
    "s_load_factors.name = 'load_factor'\n",
    "\n",
    "s_load_factors"
   ]
  },
  {
   "cell_type": "code",
   "execution_count": null,
   "id": "22a047cf",
   "metadata": {},
   "outputs": [],
   "source": []
  },
  {
   "cell_type": "code",
   "execution_count": 14,
   "id": "9c0c5944",
   "metadata": {},
   "outputs": [
    {
     "data": {
      "text/plain": [
       "year  ngc_bmu_id\n",
       "2015  ABTH7         2748.45\n",
       "      ABTH7G           0.73\n",
       "      ABTH8         3231.54\n",
       "      ABTH8G           0.83\n",
       "      ABTH9           14.92\n",
       "                     ...   \n",
       "2021  WLNYO-2       2609.84\n",
       "      WLNYO-3       2688.55\n",
       "      WLNYO-4       2108.59\n",
       "      WLNYW-1       2210.31\n",
       "      WTMSO-1       2751.66\n",
       "Name: full_load_hours, Length: 1803, dtype: float64"
      ]
     },
     "execution_count": 14,
     "metadata": {},
     "output_type": "execute_result"
    }
   ],
   "source": [
    "s_full_load_hours = (df_B1610.resample('Y').sum()/df_B1610.max()).stack().replace(0, np.nan).dropna().round(2)\n",
    "s_full_load_hours.index = pd.MultiIndex.from_arrays([s_full_load_hours.index.get_level_values(0).year, s_full_load_hours.index.get_level_values(1)], names=['year', 'ngc_bmu_id'])\n",
    "s_full_load_hours.name = 'full_load_hours'\n",
    "\n",
    "\n"
   ]
  },
  {
   "cell_type": "code",
   "execution_count": null,
   "id": "f3a85909",
   "metadata": {},
   "outputs": [],
   "source": []
  },
  {
   "cell_type": "code",
   "execution_count": 27,
   "id": "2814265d-3e74-4c48-a5c9-9b2cca67ea69",
   "metadata": {},
   "outputs": [
    {
     "data": {
      "text/html": [
       "<div>\n",
       "<style scoped>\n",
       "    .dataframe tbody tr th:only-of-type {\n",
       "        vertical-align: middle;\n",
       "    }\n",
       "\n",
       "    .dataframe tbody tr th {\n",
       "        vertical-align: top;\n",
       "    }\n",
       "\n",
       "    .dataframe thead th {\n",
       "        text-align: right;\n",
       "    }\n",
       "</style>\n",
       "<table border=\"1\" class=\"dataframe\">\n",
       "  <thead>\n",
       "    <tr style=\"text-align: right;\">\n",
       "      <th></th>\n",
       "      <th></th>\n",
       "      <th>load_factor</th>\n",
       "      <th>full_load_hours</th>\n",
       "    </tr>\n",
       "    <tr>\n",
       "      <th>year</th>\n",
       "      <th>ngc_bmu_id</th>\n",
       "      <th></th>\n",
       "      <th></th>\n",
       "    </tr>\n",
       "  </thead>\n",
       "  <tbody>\n",
       "    <tr>\n",
       "      <th rowspan=\"5\" valign=\"top\">2015</th>\n",
       "      <th>ABTH7</th>\n",
       "      <td>0.743227</td>\n",
       "      <td>2748.45</td>\n",
       "    </tr>\n",
       "    <tr>\n",
       "      <th>ABTH7G</th>\n",
       "      <td>0.002164</td>\n",
       "      <td>0.73</td>\n",
       "    </tr>\n",
       "    <tr>\n",
       "      <th>ABTH8</th>\n",
       "      <td>0.764681</td>\n",
       "      <td>3231.54</td>\n",
       "    </tr>\n",
       "    <tr>\n",
       "      <th>ABTH8G</th>\n",
       "      <td>0.002478</td>\n",
       "      <td>0.83</td>\n",
       "    </tr>\n",
       "    <tr>\n",
       "      <th>ABTH9</th>\n",
       "      <td>0.044415</td>\n",
       "      <td>14.92</td>\n",
       "    </tr>\n",
       "  </tbody>\n",
       "</table>\n",
       "</div>"
      ],
      "text/plain": [
       "                 load_factor  full_load_hours\n",
       "year ngc_bmu_id                              \n",
       "2015 ABTH7          0.743227          2748.45\n",
       "     ABTH7G         0.002164             0.73\n",
       "     ABTH8          0.764681          3231.54\n",
       "     ABTH8G         0.002478             0.83\n",
       "     ABTH9          0.044415            14.92"
      ]
     },
     "execution_count": 27,
     "metadata": {},
     "output_type": "execute_result"
    }
   ],
   "source": [
    "df_load_stats = pd.concat([s_load_factors.to_frame(), s_full_load_hours.to_frame()]).sort_index().stack().unstack()\n",
    "\n",
    "df_load_stats.head()"
   ]
  },
  {
   "cell_type": "code",
   "execution_count": null,
   "id": "75f2acee",
   "metadata": {},
   "outputs": [],
   "source": []
  },
  {
   "cell_type": "code",
   "execution_count": 29,
   "id": "4e08054c-9b37-482a-bb86-172283a295a8",
   "metadata": {},
   "outputs": [
    {
     "data": {
      "text/plain": [
       "<AxesSubplot:xlabel='load_factor', ylabel='Count'>"
      ]
     },
     "execution_count": 29,
     "metadata": {},
     "output_type": "execute_result"
    },
    {
     "data": {
      "image/png": "[encoded data removed]",
      "text/plain": [
       "<Figure size 432x288 with 1 Axes>"
      ]
     },
     "metadata": {
      "needs_background": "light"
     },
     "output_type": "display_data"
    }
   ],
   "source": [
    "import seaborn as sns\n",
    "\n",
    "sns.histplot(df_load_stats['load_factor'])"
   ]
  },
  {
   "cell_type": "code",
   "execution_count": null,
   "id": "27234b14-cab1-425e-82e2-5dc5e37462dd",
   "metadata": {},
   "outputs": [],
   "source": []
  },
  {
   "cell_type": "code",
   "execution_count": 30,
   "id": "a711d201-8726-446a-a97d-18a0a5d1e2d8",
   "metadata": {},
   "outputs": [],
   "source": [
    "save_data = False\n",
    "\n",
    "if save_data == True:\n",
    "    df_load_stats.reset_index().to_csv('../datasets/load-factors/load-factors.csv', index=False)"
   ]
  },
  {
   "cell_type": "code",
   "execution_count": null,
   "id": "0a786058-dc6e-4299-bbd2-e4cefcc5c8ac",
   "metadata": {},
   "outputs": [],
   "source": []
  },
  {
   "cell_type": "code",
   "execution_count": null,
   "id": "aeb805a8-82c7-4a89-b7b2-1d529fb8cf40",
   "metadata": {},
   "outputs": [],
   "source": []
  }
 ],
 "metadata": {
  "interpreter": {
   "hash": "fc7d4ce9b6a0cbdd34c97da256c5e81ec36d4571a88922f33118d7fc07321e17"
  },
  "kernelspec": {
   "display_name": "PowerDictData",
   "language": "python",
   "name": "python3"
  },
  "language_info": {
   "codemirror_mode": {
    "name": "ipython",
    "version": 3
   },
   "file_extension": ".py",
   "mimetype": "text/x-python",
   "name": "python",
   "nbconvert_exporter": "python",
   "pygments_lexer": "ipython3",
   "version": "3.9.7"
  }
 },
 "nbformat": 4,
 "nbformat_minor": 5
}
